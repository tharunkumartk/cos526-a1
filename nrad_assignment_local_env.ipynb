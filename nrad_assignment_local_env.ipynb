{
 "cells": [
  {
   "cell_type": "code",
   "execution_count": null,
   "metadata": {
    "colab": {
     "base_uri": "https://localhost:8080/"
    },
    "executionInfo": {
     "elapsed": 1504,
     "status": "ok",
     "timestamp": 1738556072574,
     "user": {
      "displayName": "Erich Liang",
      "userId": "11483045794684169826"
     },
     "user_tz": 300
    },
    "id": "0Da14nVmn6Zr",
    "outputId": "c12b36b9-9b1f-4111-e9b5-55fc5689adba"
   },
   "outputs": [],
   "source": [
    "from google.colab import drive\n",
    "drive.mount('/content/gdrive/')"
   ]
  },
  {
   "cell_type": "code",
   "execution_count": null,
   "metadata": {
    "colab": {
     "base_uri": "https://localhost:8080/"
    },
    "executionInfo": {
     "elapsed": 2,
     "status": "ok",
     "timestamp": 1738556072574,
     "user": {
      "displayName": "Erich Liang",
      "userId": "11483045794684169826"
     },
     "user_tz": 300
    },
    "id": "NWgV3svroC3l",
    "outputId": "9e5ad27f-6747-45f3-dfe1-7fb1dd514cd0"
   },
   "outputs": [],
   "source": [
    "# Upload project code to a folder in google drive\n",
    "# Place this google colab in the project root folder\n",
    "# Navigate to your project folder in google drive\n",
    "%cd /content/gdrive/.../path_to_folder"
   ]
  },
  {
   "cell_type": "code",
   "execution_count": null,
   "metadata": {
    "colab": {
     "base_uri": "https://localhost:8080/"
    },
    "executionInfo": {
     "elapsed": 1126,
     "status": "ok",
     "timestamp": 1738556073699,
     "user": {
      "displayName": "Erich Liang",
      "userId": "11483045794684169826"
     },
     "user_tz": 300
    },
    "id": "JOv9xfFDvI5S",
    "outputId": "ee20d70e-3f12-4066-acc8-44df809cf482"
   },
   "outputs": [],
   "source": [
    "# Install dependencies\n",
    "!pip install -r requirements.txt"
   ]
  },
  {
   "cell_type": "code",
   "execution_count": null,
   "metadata": {
    "colab": {
     "base_uri": "https://localhost:8080/"
    },
    "executionInfo": {
     "elapsed": 4,
     "status": "ok",
     "timestamp": 1738556073700,
     "user": {
      "displayName": "Erich Liang",
      "userId": "11483045794684169826"
     },
     "user_tz": 300
    },
    "id": "Isa2JdtHpZNp",
    "outputId": "89945aa5-e58e-430b-da63-e909cc0a97ce"
   },
   "outputs": [],
   "source": [
    "# Download sample dataset\n",
    "!bash download_example_data.sh"
   ]
  },
  {
   "cell_type": "code",
   "execution_count": null,
   "metadata": {
    "colab": {
     "base_uri": "https://localhost:8080/"
    },
    "executionInfo": {
     "elapsed": 2,
     "status": "ok",
     "timestamp": 1738556073700,
     "user": {
      "displayName": "Erich Liang",
      "userId": "11483045794684169826"
     },
     "user_tz": 300
    },
    "id": "BP2diZqytXCF",
    "outputId": "d735ba0f-97c7-44c5-96f2-88c2b0ad3e10"
   },
   "outputs": [],
   "source": [
    "!python main.py --config configs/lego.txt"
   ]
  },
  {
   "cell_type": "code",
   "execution_count": 5,
   "metadata": {
    "executionInfo": {
     "elapsed": 2,
     "status": "ok",
     "timestamp": 1738556073700,
     "user": {
      "displayName": "Erich Liang",
      "userId": "11483045794684169826"
     },
     "user_tz": 300
    },
    "id": "8p6esjyftZ03"
   },
   "outputs": [],
   "source": []
  }
 ],
 "metadata": {
  "accelerator": "GPU",
  "colab": {
   "authorship_tag": "ABX9TyPSx76ntv08vmPv10Y8L1/E",
   "gpuType": "T4",
   "provenance": []
  },
  "kernelspec": {
   "display_name": "Python 3",
   "name": "python3"
  },
  "language_info": {
   "name": "python"
  }
 },
 "nbformat": 4,
 "nbformat_minor": 0
}
